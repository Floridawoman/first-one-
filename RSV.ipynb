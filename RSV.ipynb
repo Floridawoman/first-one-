{
 "cells": [
  {
   "cell_type": "code",
   "execution_count": 1,
   "id": "2080ac7c-c21a-4b8d-8570-888f89ed0caf",
   "metadata": {},
   "outputs": [
    {
     "data": {
      "text/plain": [
       "{'count': 90,\n",
       " 'next': 'https://api.ukhsa-dashboard.data.gov.uk/themes/infectious_disease/sub_themes/bloodstream_infection/topics/E-coli/geography_types/Nation/geographies/England/metrics/e-coli_cases_countsByOnsetType?page=2',\n",
       " 'previous': None,\n",
       " 'results': [{'theme': 'infectious_disease',\n",
       "   'sub_theme': 'bloodstream_infection',\n",
       "   'topic': 'E-coli',\n",
       "   'geography_type': 'Nation',\n",
       "   'geography': 'England',\n",
       "   'geography_code': 'E92000001',\n",
       "   'metric': 'e-coli_cases_countsByOnsetType',\n",
       "   'metric_group': 'cases',\n",
       "   'stratum': 'Hospital-onset, healthcare associated',\n",
       "   'sex': 'all',\n",
       "   'age': 'all',\n",
       "   'year': 2023,\n",
       "   'month': 6,\n",
       "   'epiweek': 26,\n",
       "   'date': '2023-06-30',\n",
       "   'metric_value': 664.0,\n",
       "   'in_reporting_delay_period': False},\n",
       "  {'theme': 'infectious_disease',\n",
       "   'sub_theme': 'bloodstream_infection',\n",
       "   'topic': 'E-coli',\n",
       "   'geography_type': 'Nation',\n",
       "   'geography': 'England',\n",
       "   'geography_code': 'E92000001',\n",
       "   'metric': 'e-coli_cases_countsByOnsetType',\n",
       "   'metric_group': 'cases',\n",
       "   'stratum': 'Total cases',\n",
       "   'sex': 'all',\n",
       "   'age': 'all',\n",
       "   'year': 2023,\n",
       "   'month': 6,\n",
       "   'epiweek': 26,\n",
       "   'date': '2023-06-30',\n",
       "   'metric_value': 3531.0,\n",
       "   'in_reporting_delay_period': False},\n",
       "  {'theme': 'infectious_disease',\n",
       "   'sub_theme': 'bloodstream_infection',\n",
       "   'topic': 'E-coli',\n",
       "   'geography_type': 'Nation',\n",
       "   'geography': 'England',\n",
       "   'geography_code': 'E92000001',\n",
       "   'metric': 'e-coli_cases_countsByOnsetType',\n",
       "   'metric_group': 'cases',\n",
       "   'stratum': 'Unknown',\n",
       "   'sex': 'all',\n",
       "   'age': 'all',\n",
       "   'year': 2023,\n",
       "   'month': 6,\n",
       "   'epiweek': 26,\n",
       "   'date': '2023-06-30',\n",
       "   'metric_value': 12.0,\n",
       "   'in_reporting_delay_period': False},\n",
       "  {'theme': 'infectious_disease',\n",
       "   'sub_theme': 'bloodstream_infection',\n",
       "   'topic': 'E-coli',\n",
       "   'geography_type': 'Nation',\n",
       "   'geography': 'England',\n",
       "   'geography_code': 'E92000001',\n",
       "   'metric': 'e-coli_cases_countsByOnsetType',\n",
       "   'metric_group': 'cases',\n",
       "   'stratum': 'Community-onset, healthcare associated',\n",
       "   'sex': 'all',\n",
       "   'age': 'all',\n",
       "   'year': 2023,\n",
       "   'month': 6,\n",
       "   'epiweek': 26,\n",
       "   'date': '2023-06-30',\n",
       "   'metric_value': 495.0,\n",
       "   'in_reporting_delay_period': False},\n",
       "  {'theme': 'infectious_disease',\n",
       "   'sub_theme': 'bloodstream_infection',\n",
       "   'topic': 'E-coli',\n",
       "   'geography_type': 'Nation',\n",
       "   'geography': 'England',\n",
       "   'geography_code': 'E92000001',\n",
       "   'metric': 'e-coli_cases_countsByOnsetType',\n",
       "   'metric_group': 'cases',\n",
       "   'stratum': 'No information',\n",
       "   'sex': 'all',\n",
       "   'age': 'all',\n",
       "   'year': 2023,\n",
       "   'month': 6,\n",
       "   'epiweek': 26,\n",
       "   'date': '2023-06-30',\n",
       "   'metric_value': 0.0,\n",
       "   'in_reporting_delay_period': False}]}"
      ]
     },
     "execution_count": 1,
     "metadata": {},
     "output_type": "execute_result"
    }
   ],
   "source": [
    "import requests\n",
    "\n",
    "# Same as the above but in Python, with a couple of extra parameters added to the URL\n",
    "requests.get(\"https://api.ukhsa-dashboard.data.gov.uk/themes\"\n",
    "             \"/infectious_disease/sub_themes/bloodstream_infection/topics\"\n",
    "             \"/E-coli/geography_types/Nation/geographies/England\"\n",
    "             \"/metrics/e-coli_cases_countsByOnsetType\" ).json()"
   ]
  },
  {
   "cell_type": "code",
   "execution_count": 2,
   "id": "ddd26538-f2de-4cf4-af0e-89313b99c5a3",
   "metadata": {},
   "outputs": [
    {
     "ename": "SyntaxError",
     "evalue": "invalid syntax (3193606719.py, line 1)",
     "output_type": "error",
     "traceback": [
      "\u001b[0;36m  Cell \u001b[0;32mIn[2], line 1\u001b[0;36m\u001b[0m\n\u001b[0;31m    https://api.ukhsa-dashboard.data.gov.uk/themes/infectious_disease/sub_themes/bloodstream_infection/topics/E-coli/geography_types/Nation/geographies/England/metrics/e-coli_cases_countsByOnsetType\u001b[0m\n\u001b[0m          ^\u001b[0m\n\u001b[0;31mSyntaxError\u001b[0m\u001b[0;31m:\u001b[0m invalid syntax\n"
     ]
    }
   ],
   "source": [
    "https://api.ukhsa-dashboard.data.gov.uk/themes/infectious_disease/sub_themes/bloodstream_infection/topics/E-coli/geography_types/Nation/geographies/England/metrics/e-coli_cases_countsByOnsetType"
   ]
  },
  {
   "cell_type": "code",
   "execution_count": 3,
   "id": "7376a6c2-fd4c-43af-814f-38298269f530",
   "metadata": {},
   "outputs": [],
   "source": [
    "structure={\"theme\": \"infectious_disease\", \n",
    "           \"sub_theme\": \"respiratory\",\n",
    "           \"topic\": \"RSV\",\n",
    "           \"geography_type\": \"Nation\", \n",
    "           \"geography\": \"England\"}\n",
    "\n",
    "structure[\"metric\"]=\"RSV_healthcare_admissionRateByWeek\" "
   ]
  },
  {
   "cell_type": "code",
   "execution_count": 4,
   "id": "8a965388-1e0e-4795-a38b-cd2e814427cb",
   "metadata": {},
   "outputs": [],
   "source": [
    "import time\n",
    "\n",
    "class APIwrapper:\n",
    "    # class variables shared among all instances\n",
    "    _access_point=\"https://api.ukhsa-dashboard.data.gov.uk\"\n",
    "    _last_access=0.0 # time of last api access\n",
    "    \n",
    "    def __init__(self, theme, sub_theme, topic, geography_type, geography, metric):\n",
    "        \"\"\" Init the APIwrapper object, constructing the endpoint from the structure\n",
    "        parameters \"\"\"\n",
    "        # build the path with all the required structure parameters\n",
    "        url_path=(f\"/themes/{theme}/sub_themes/{sub_theme}/topics/{topic}/geography_types/\" +\n",
    "                  f\"{geography_type}/geographies/{geography}/metrics/{metric}\")\n",
    "        # our starting API endpoint\n",
    "        self._start_url=APIwrapper._access_point+url_path\n",
    "        self._filters=None\n",
    "        self._page_size=-1\n",
    "        # will contain the number of items\n",
    "        self.count=None\n",
    "\n",
    "    def get_page(self, filters={}, page_size=5):\n",
    "        \"\"\" Access the API and download the next page of data. Sets the count\n",
    "        attribute to the total number of items available for this query. Changing\n",
    "        filters or page_size will cause get_page to restart from page 1. Rate\n",
    "        limited to three request per second. The page_size parameter sets the number\n",
    "        of data points in one response page (maximum 365); use the default value \n",
    "        for debugging your structure and filters, increase when you start looping \n",
    "        over all pages. \"\"\"\n",
    "        # Check page size is within range\n",
    "        if page_size>365:\n",
    "            raise ValueError(\"Max supported page size is 365\")\n",
    "        # restart from first page if page or filters have changed\n",
    "        if filters!=self._filters or page_size!=self._page_size:\n",
    "            self._filters=filters\n",
    "            self._page_size=page_size\n",
    "            self._next_url=self._start_url\n",
    "        # signal the end of data condition\n",
    "        if self._next_url==None: \n",
    "            return [] # we already fetched the last page\n",
    "        # simple rate limiting to avoid bans\n",
    "        curr_time=time.time() # Unix time: number of seconds since the Epoch\n",
    "        deltat=curr_time-APIwrapper._last_access\n",
    "        if deltat<0.33: # max 3 requests/second\n",
    "            time.sleep(0.33-deltat)\n",
    "        APIwrapper._last_access=curr_time\n",
    "        # build parameter dictionary by removing all the None\n",
    "        # values from filters and adding page_size\n",
    "        parameters={x: y for x, y in filters.items() if y!=None}\n",
    "        parameters['page_size']=page_size\n",
    "        # the page parameter is already included in _next_url.\n",
    "        # This is the API access. Response is a dictionary with various keys.\n",
    "        # the .json() method decodes the response into Python object (dictionaries,\n",
    "        # lists; 'null' values are translated as None).\n",
    "        response = requests.get(self._next_url, params=parameters).json()\n",
    "        # update url so we'll fetch the next page\n",
    "        self._next_url=response['next']\n",
    "        self.count=response['count']\n",
    "        # data are in the nested 'results' list\n",
    "        return response['results'] "
   ]
  },
  {
   "cell_type": "code",
   "execution_count": 5,
   "id": "2ab5601b-6800-4e5f-a98b-2c83cf990b58",
   "metadata": {
    "scrolled": true
   },
   "outputs": [
    {
     "name": "stdout",
     "output_type": "stream",
     "text": [
      "2157\n",
      "[{'theme': 'infectious_disease', 'sub_theme': 'respiratory', 'topic': 'RSV', 'geography_type': 'Nation', 'geography': 'England', 'geography_code': 'E92000001', 'metric': 'RSV_healthcare_admissionRateByWeek', 'metric_group': 'healthcare', 'stratum': 'default', 'sex': 'all', 'age': '00-04', 'year': 2020, 'month': 9, 'epiweek': 40, 'date': '2020-09-28', 'metric_value': 0.0, 'in_reporting_delay_period': False}, {'theme': 'infectious_disease', 'sub_theme': 'respiratory', 'topic': 'RSV', 'geography_type': 'Nation', 'geography': 'England', 'geography_code': 'E92000001', 'metric': 'RSV_healthcare_admissionRateByWeek', 'metric_group': 'healthcare', 'stratum': 'default', 'sex': 'all', 'age': '45-54', 'year': 2020, 'month': 9, 'epiweek': 40, 'date': '2020-09-28', 'metric_value': 0.0, 'in_reporting_delay_period': False}, {'theme': 'infectious_disease', 'sub_theme': 'respiratory', 'topic': 'RSV', 'geography_type': 'Nation', 'geography': 'England', 'geography_code': 'E92000001', 'metric': 'RSV_healthcare_admissionRateByWeek', 'metric_group': 'healthcare', 'stratum': 'default', 'sex': 'all', 'age': '75-84', 'year': 2020, 'month': 9, 'epiweek': 40, 'date': '2020-09-28', 'metric_value': 0.0, 'in_reporting_delay_period': False}, {'theme': 'infectious_disease', 'sub_theme': 'respiratory', 'topic': 'RSV', 'geography_type': 'Nation', 'geography': 'England', 'geography_code': 'E92000001', 'metric': 'RSV_healthcare_admissionRateByWeek', 'metric_group': 'healthcare', 'stratum': 'default', 'sex': 'all', 'age': '15-44', 'year': 2020, 'month': 9, 'epiweek': 40, 'date': '2020-09-28', 'metric_value': 0.0, 'in_reporting_delay_period': False}, {'theme': 'infectious_disease', 'sub_theme': 'respiratory', 'topic': 'RSV', 'geography_type': 'Nation', 'geography': 'England', 'geography_code': 'E92000001', 'metric': 'RSV_healthcare_admissionRateByWeek', 'metric_group': 'healthcare', 'stratum': 'default', 'sex': 'all', 'age': '05-14', 'year': 2020, 'month': 9, 'epiweek': 40, 'date': '2020-09-28', 'metric_value': 0.0, 'in_reporting_delay_period': False}]\n"
     ]
    }
   ],
   "source": [
    "api=APIwrapper(**structure)\n",
    "data=api.get_page() # default size is 5\n",
    "print(api.count)\n",
    "print(data)"
   ]
  },
  {
   "cell_type": "code",
   "execution_count": 6,
   "id": "6a0c9bca-3e27-45c3-b09f-45385cbdb25f",
   "metadata": {},
   "outputs": [
    {
     "name": "stdout",
     "output_type": "stream",
     "text": [
      "Pages retrieved: 1\n",
      "Pages retrieved: 2\n",
      "Pages retrieved: 3\n",
      "Pages retrieved: 4\n",
      "Pages retrieved: 5\n",
      "Pages retrieved: 6\n",
      "Pages retrieved: 7\n",
      "Data points expected: 2157\n",
      "Data points retrieved: 2157\n"
     ]
    }
   ],
   "source": [
    "structure[\"metric\"]=\"RSV_healthcare_admissionRateByWeek\"\n",
    "api=APIwrapper(**structure)\n",
    "Admissions=[]\n",
    "page=1\n",
    "while True:\n",
    "    data=api.get_page(page_size=365)\n",
    "    print(f\"Pages retrieved: {page}\")\n",
    "    if data==[]:\n",
    "        break\n",
    "    Admissions.extend(data)\n",
    "    page+=1\n",
    "print(f\"Data points expected: {api.count}\")\n",
    "print(f\"Data points retrieved: {len(Admissions)}\")"
   ]
  },
  {
   "cell_type": "code",
   "execution_count": 7,
   "id": "db61a176-6781-406c-9105-d8239a497910",
   "metadata": {},
   "outputs": [
    {
     "name": "stdout",
     "output_type": "stream",
     "text": [
      "Data points expected: 2811\n",
      "Data points retrieved: 2157\n"
     ]
    }
   ],
   "source": [
    "structure[\"metric\"]=\"RSV_testing_positivityByWeek\"\n",
    "# the structure has changed, so we need to create a new object\n",
    "api=APIwrapper(**structure)\n",
    "positives=[]\n",
    "while True:\n",
    "    data=api.get_page(page_size=365)\n",
    "    if data==[]:\n",
    "        break\n",
    "    positives.extend(data)\n",
    "    page+=1\n",
    "print(f\"Data points expected: {api.count}\")\n",
    "print(f\"Data points retrieved: {len(Admissions)}\")"
   ]
  },
  {
   "cell_type": "code",
   "execution_count": 8,
   "id": "982199f0-f954-4b69-b30e-0b108d8561a5",
   "metadata": {},
   "outputs": [],
   "source": [
    "import json\n",
    "with open(\"Admissions.json\", \"wt\") as OUTF:\n",
    "    json.dump(Admissions, OUTF)\n",
    "with open(\"positives.json\", \"wt\") as OUTF:\n",
    "    json.dump(positives, OUTF)"
   ]
  },
  {
   "cell_type": "code",
   "execution_count": null,
   "id": "792305fb-6ca3-48a7-93af-3440ba02fe70",
   "metadata": {},
   "outputs": [],
   "source": [
    "filters={\"stratum\" : None, # Smallest subgroup a metric can be broken down into e.g. ethnicity, testing pillar\n",
    "         \"age\": 20_30, # Smallest subgroup a metric can be broken down into e.g. 15_44 for the age group of 15-44 years\n",
    "         \"sex\": None, #  Patient gender e.g. 'm' for Male, 'f' for Female or 'all' for all genders\n",
    "         \"year\": 2022, #  Epi year of the metrics value (important for annual metrics) e.g. 2020\n",
    "         \"month\": None, # Epi month of the metric value (important for monthly metrics) e.g. 12\n",
    "         \"epiweek\" :None, # Epi week of the metric value (important for weekly metrics) e.g. 30\n",
    "         \"date\" : None, # The date which this metric value was recorded in the format YYYY-MM-DD e.g. 2020-07-20\n",
    "         \"in_reporting_delay_period\": None # Boolean indicating whether the data point is considered to be subject to retrospective updates\n",
    "        }"
   ]
  },
  {
   "cell_type": "code",
   "execution_count": null,
   "id": "3025beac-5b9c-4a15-a48d-c3c085607c64",
   "metadata": {},
   "outputs": [],
   "source": [
    "import json\n",
    "with open(\"Admissions.json\", \"wt\") as OUTF:\n",
    "    json.dump(Admissions, OUTF)\n",
    "with open(\"positives.json\", \"wt\") as OUTF:\n",
    "    json.dump(positives, OUTF)\n"
   ]
  },
  {
   "cell_type": "code",
   "execution_count": null,
   "id": "b6acdafb-d486-43bd-ab0b-740f6bdcaea4",
   "metadata": {},
   "outputs": [],
   "source": [
    "# Let's filter for the year 2022.\n",
    "# None values will be ignored by the APIwrapper\n",
    "\n",
    "filters={\"stratum\" : None, # Smallest subgroup a metric can be broken down into e.g. ethnicity, testing pillar\n",
    "         \"age\": None, # Smallest subgroup a metric can be broken down into e.g. 15_44 for the age group of 15-44 years\n",
    "         \"sex\": None, #  Patient gender e.g. 'm' for Male, 'f' for Female or 'all' for all genders\n",
    "         \"year\": None, #  Epi year of the metrics value (important for annual metrics) e.g. 2020\n",
    "         \"month\": None, # Epi month of the metric value (important for monthly metrics) e.g. 12\n",
    "         \"epiweek\" :None, # Epi week of the metric value (important for weekly metrics) e.g. 30\n",
    "         \"date\" : None, # The date which this metric value was recorded in the format YYYY-MM-DD e.g. 2020-07-20\n",
    "         \"in_reporting_delay_period\": None # Boolean indicating whether the data point is considered to be subject to retrospective updates\n",
    "        }"
   ]
  },
  {
   "cell_type": "code",
   "execution_count": null,
   "id": "c147e519-9e24-47ff-b7bc-881b91cc5f7a",
   "metadata": {},
   "outputs": [],
   "source": []
  },
  {
   "cell_type": "code",
   "execution_count": null,
   "id": "eae34a21-1e1c-493a-8263-1d80aec1f791",
   "metadata": {},
   "outputs": [],
   "source": [
    "data_2022=api.get_page(filters, page_size=3)\n",
    "print(api.count)\n",
    "print(data_2022)"
   ]
  },
  {
   "cell_type": "code",
   "execution_count": null,
   "id": "88b167d4-e40c-46f7-bf10-e902377fe474",
   "metadata": {},
   "outputs": [],
   "source": [
    "import pandas as pd\n",
    "import matplotlib.pyplot as plt\n",
    "import matplotlib.dates as mdates\n",
    "import json"
   ]
  },
  {
   "cell_type": "code",
   "execution_count": null,
   "id": "097359ce-c977-4110-9a1b-4a1f95f29211",
   "metadata": {},
   "outputs": [],
   "source": [
    "with open(\"Admissions.json\", \"rt\") as INFILE:\n",
    "    admissions=json.load(INFILE)\n",
    "with open(\"positives.json\", \"rt\") as INFILE:\n",
    "    cases=json.load(INFILE)"
   ]
  },
  {
   "cell_type": "code",
   "execution_count": 9,
   "id": "90171bb8-fc8d-4da7-bca1-ff252876ae17",
   "metadata": {},
   "outputs": [
    {
     "ename": "TypeError",
     "evalue": "list indices must be integers or slices, not str",
     "output_type": "error",
     "traceback": [
      "\u001b[0;31m---------------------------------------------------------------------------\u001b[0m",
      "\u001b[0;31mTypeError\u001b[0m                                 Traceback (most recent call last)",
      "Cell \u001b[0;32mIn[9], line 7\u001b[0m\n\u001b[1;32m      5\u001b[0m value\u001b[38;5;241m=\u001b[39mentry[\u001b[38;5;124m'\u001b[39m\u001b[38;5;124mmetric_value\u001b[39m\u001b[38;5;124m'\u001b[39m]\n\u001b[1;32m      6\u001b[0m \u001b[38;5;28;01mif\u001b[39;00m date \u001b[38;5;129;01mnot\u001b[39;00m \u001b[38;5;129;01min\u001b[39;00m data:\n\u001b[0;32m----> 7\u001b[0m     \u001b[43mdata\u001b[49m\u001b[43m[\u001b[49m\u001b[43mdate\u001b[49m\u001b[43m]\u001b[49m\u001b[38;5;241m=\u001b[39m{}\n\u001b[1;32m      8\u001b[0m data[date][metric]\u001b[38;5;241m=\u001b[39mvalue\n",
      "\u001b[0;31mTypeError\u001b[0m: list indices must be integers or slices, not str"
     ]
    }
   ],
   "source": [
    "\n",
    "for dataset in [Admissions, positives]:\n",
    "    for entry in dataset:\n",
    "        date=entry['date']\n",
    "        metric=entry['metric']\n",
    "        value=entry['metric_value']\n",
    "        if date not in data:\n",
    "            data[date]={}\n",
    "        data[date][metric]=value"
   ]
  },
  {
   "cell_type": "code",
   "execution_count": null,
   "id": "eafcdb70-d7f6-4694-adb8-233c8042a0f6",
   "metadata": {},
   "outputs": [],
   "source": [
    "data"
   ]
  },
  {
   "cell_type": "code",
   "execution_count": null,
   "id": "9ed5f3da-54d7-4f40-b75a-6c7683e82c1c",
   "metadata": {},
   "outputs": [],
   "source": [
    "dates=list(data.keys())\n",
    "dates.sort()\n",
    "dates"
   ]
  },
  {
   "cell_type": "code",
   "execution_count": null,
   "id": "590a8273-6496-4027-a433-7a7581ad0786",
   "metadata": {},
   "outputs": [],
   "source": [
    "def parse_date(datestring):\n",
    "    \"\"\" Convert a date string into a pandas datetime object \"\"\"\n",
    "    return pd.to_datetime(datestring, format=\"%Y-%m-%d\")"
   ]
  },
  {
   "cell_type": "code",
   "execution_count": null,
   "id": "d5feeec3-28b2-4bf1-9739-c094171a5b6f",
   "metadata": {},
   "outputs": [],
   "source": [
    "startdate=parse_date(dates[0])\n",
    "enddate=parse_date(dates[-1])\n",
    "print (startdate, ' to ', enddate)"
   ]
  },
  {
   "cell_type": "code",
   "execution_count": null,
   "id": "a18bd0c2-45f0-41fb-bf5e-4d7bf1ca0a7a",
   "metadata": {},
   "outputs": [],
   "source": [
    "index=pd.date_range(startdate, enddate, freq='D')\n",
    "timeseriesdf=pd.DataFrame(index=index, columns=['Admissions', 'positives'])\n",
    "timeseriesdf"
   ]
  },
  {
   "cell_type": "code",
   "execution_count": null,
   "id": "14577221-58dc-4e87-8ed2-ecc193f2e53f",
   "metadata": {},
   "outputs": [],
   "source": [
    "metrics ={'Admissions': 'RSV_healthcare_admissionRateByWeek',\n",
    "          'positives': 'RSV_testing_positivityByWeek'}\n",
    "for date, entry in data.items(): # each entry is a dictionary with cases, admissions and deaths\n",
    "    pd_date=parse_date(date) # convert to Pandas format\n",
    "    for column in ['Admissions', 'positives']: \n",
    "        metric_name=metrics[column]\n",
    "        # do not assume all values are there for every date - if a value is not available, insert a 0.0\n",
    "        value= entry.get(metric_name, 0.0)\n",
    "        # this is the way you access a specific location in the dataframe - use .loc\n",
    "        # and put index,column in a single set of [ ]\n",
    "        timeseriesdf.loc[date, column]=value\n",
    "            \n",
    "# fill in any remaining \"holes\" due to missing dates\n",
    "timeseriesdf.fillna(0.0, inplace=True)\n",
    "            \n",
    "timeseriesdf"
   ]
  },
  {
   "cell_type": "code",
   "execution_count": null,
   "id": "419aee9d-9266-4238-ab09-dbdc449a3e6b",
   "metadata": {},
   "outputs": [],
   "source": [
    "ax=timeseriesdf.plot() # easy peasy...\n",
    "ax.set_title('Admissions, positives');"
   ]
  },
  {
   "cell_type": "code",
   "execution_count": null,
   "id": "2d39125d-4f30-42a9-b5cf-4eabb33d7902",
   "metadata": {},
   "outputs": [],
   "source": [
    "ax=timeseriesdf.plot(logy=True) # ...lemon squeezy\n",
    "ax.set_title('Admissions, positives(log scale)');"
   ]
  },
  {
   "cell_type": "code",
   "execution_count": null,
   "id": "03261b87-3102-49af-a8e8-7226fb821f63",
   "metadata": {},
   "outputs": [],
   "source": [
    "timeseriesdf.to_pickle(\"timeseriesdf.pkl\")"
   ]
  },
  {
   "cell_type": "code",
   "execution_count": null,
   "id": "2dcba27a-2f47-476c-9016-fc9fc79e1929",
   "metadata": {},
   "outputs": [],
   "source": [
    "from IPython.display import clear_output\n",
    "import ipywidgets as wdg\n",
    "import pandas as pd\n",
    "import matplotlib.pyplot as plt"
   ]
  },
  {
   "cell_type": "code",
   "execution_count": null,
   "id": "6b340324-7313-4485-8be3-f4098d0bb000",
   "metadata": {},
   "outputs": [],
   "source": [
    "%matplotlib inline\n",
    "# make figures larger\n",
    "plt.rcParams['figure.dpi'] = 100"
   ]
  },
  {
   "cell_type": "code",
   "execution_count": null,
   "id": "e2dce731-0cad-4420-a8bd-6db7740428f1",
   "metadata": {},
   "outputs": [],
   "source": [
    "timeseriesdf=pd.read_pickle(\"timeseriesdf.pkl\")"
   ]
  },
  {
   "cell_type": "code",
   "execution_count": null,
   "id": "e6ad1183-b459-4331-aef3-ed640d39db09",
   "metadata": {},
   "outputs": [],
   "source": [
    "series=wdg.SelectMultiple(\n",
    "    options=['Admissions', 'positives'],\n",
    "    value=['Admissions', 'positives'],\n",
    "    rows=3,\n",
    "    description='Stats:',\n",
    "    disabled=False\n",
    ")\n",
    "\n",
    "scale=wdg.RadioButtons(\n",
    "    options=['linear', 'log'],\n",
    "#   value='pineapple', # Defaults to 'pineapple'\n",
    "#   layout={'width': 'max-content'}, # If the items' names are long\n",
    "    description='Scale:',\n",
    "    disabled=False\n",
    ")\n",
    "\n",
    "# try replacing HBox with a VBox\n",
    "controls=wdg.HBox([series, scale])\n",
    "\n",
    "def timeseries_graph(gcols, gscale):\n",
    "    if gscale=='linear':\n",
    "        logscale=False\n",
    "    else:\n",
    "        logscale=True\n",
    "    ncols=len(gcols)\n",
    "    if ncols>0:\n",
    "        timeseriesdf[list(gcols)].plot(logy=logscale)\n",
    "        plt.show() # important - graphs won't update if this is missing \n",
    "    else:\n",
    "        print(\"Click to select data for graph\")\n",
    "        print(\"(CTRL-Click to select more than one category)\")\n",
    "\n",
    "# keep calling timeseries_graph(gcols=value_of_series, gscale=value_of_scale); \n",
    "# capture output in widget graph   \n",
    "graph=wdg.interactive_output(timeseries_graph, {'gcols': series, 'gscale': scale})\n",
    "\n",
    "display(controls, graph)"
   ]
  },
  {
   "cell_type": "code",
   "execution_count": null,
   "id": "96941587-30a9-43dd-bbec-e1f0b29e51ed",
   "metadata": {},
   "outputs": [],
   "source": [
    "year=wdg.Select(\n",
    "    # options available: unique years in the dataframe\n",
    "    options=timeseriesdf.index.year.unique(), # options available\n",
    "    value=timeseriesdf.index.year[-1], # initial value: most recent year\n",
    "    rows=1, # rows of the selection box\n",
    "    description='Year',\n",
    "    disabled=False\n",
    ")\n",
    "def timeseries_graph1(graphyear):\n",
    "    # our callback function.\n",
    "    yeardf=timeseriesdf[timeseriesdf.index.year==graphyear]\n",
    "    # average the rows by month\n",
    "    monthly= yeardf.groupby(pd.Grouper(freq='1ME')).mean() \n",
    "    totals=monthly.sum(axis=1) # over the rows\n",
    "    # make sure it's all normalised to 100\n",
    "    monthly=monthly.div(totals, axis=0)*100\n",
    "    # older dates on top of the graph\n",
    "    monthly = monthly[::-1]\n",
    "    ax=monthly.plot(kind='barh', stacked=True,cmap='tab20')\n",
    "    ax.legend(loc='center left',bbox_to_anchor=(1.0, 0.5))\n",
    "    ax.set_yticklabels(monthly.index.strftime('%Y-%m-%d'))\n",
    "output=wdg.interactive_output(timeseries_graph1, {'graphyear': year})\n",
    "display(year, output)"
   ]
  },
  {
   "cell_type": "code",
   "execution_count": null,
   "id": "e6065e38-7ced-471b-8fe1-27924d1a9e4a",
   "metadata": {},
   "outputs": [],
   "source": []
  },
  {
   "cell_type": "code",
   "execution_count": null,
   "id": "7d1bbd81-5edf-4d47-b6ce-10070e628268",
   "metadata": {},
   "outputs": [],
   "source": []
  }
 ],
 "metadata": {
  "kernelspec": {
   "display_name": "Python 3 (ipykernel)",
   "language": "python",
   "name": "python3"
  },
  "language_info": {
   "codemirror_mode": {
    "name": "ipython",
    "version": 3
   },
   "file_extension": ".py",
   "mimetype": "text/x-python",
   "name": "python",
   "nbconvert_exporter": "python",
   "pygments_lexer": "ipython3",
   "version": "3.11.9"
  }
 },
 "nbformat": 4,
 "nbformat_minor": 5
}
